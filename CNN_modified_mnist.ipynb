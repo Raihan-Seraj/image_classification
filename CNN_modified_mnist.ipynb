{
 "cells": [
  {
   "cell_type": "markdown",
   "metadata": {},
   "source": [
    "## importing the modules\n"
   ]
  },
  {
   "cell_type": "code",
   "execution_count": 1,
   "metadata": {
    "collapsed": true
   },
   "outputs": [],
   "source": [
    "import numpy as np\n",
    "import csv\n",
    "import torch\n",
    "import torch.nn as nn\n",
    "\n",
    "from torch.autograd import Variable\n",
    "import torchvision.transforms as transforms\n",
    "import pdb\n",
    "import scipy.misc\n",
    "import pandas as pd\n",
    "import matplotlib.pyplot as plt \n"
   ]
  },
  {
   "cell_type": "code",
   "execution_count": 2,
   "metadata": {
    "collapsed": true
   },
   "outputs": [],
   "source": [
    "ljk = [0, 1, 2, 3, 4, 5, 6, 7, 8, 9, 10, 11, 12, 13, 14, 15, 16, 17, 18, 20, 21, 24, 25, 27, 28, 30, 32, 35, 36, 40, 42, 45, 48, 49, 54, 56, 63, 64, 72, 81]\n",
    "dict_transform = dict((ljk[i],i) for i in range(len(ljk)))"
   ]
  },
  {
   "cell_type": "code",
   "execution_count": 3,
   "metadata": {
    "collapsed": true
   },
   "outputs": [],
   "source": [
    "#dict_transform[81]"
   ]
  },
  {
   "cell_type": "markdown",
   "metadata": {},
   "source": [
    "## To load the data \n"
   ]
  },
  {
   "cell_type": "code",
   "execution_count": 4,
   "metadata": {
    "collapsed": true
   },
   "outputs": [],
   "source": [
    "def data_load(x_path,y_path):\n",
    "    x=np.loadtxt(x_path,delimiter=\",\")\n",
    "    y=np.loadtxt(y_path,delimiter=\",\")\n",
    "    x=x.reshape(-1,64,64)\n",
    "    y=y.reshape(-1,1)\n",
    "    print(\"Data Loaded\")\n",
    "    return x,y"
   ]
  },
  {
   "cell_type": "code",
   "execution_count": 5,
   "metadata": {},
   "outputs": [
    {
     "name": "stdout",
     "output_type": "stream",
     "text": [
      "Data Loaded\n"
     ]
    }
   ],
   "source": [
    "X_train,Y_train=data_load(\"dataset/train_x.csv\",\"dataset/train_y.csv\")\n",
    "\n",
    "kaggle_set_x=np.loadtxt(\"dataset/test_x.csv\",delimiter=\",\")\n",
    "kaggle_set_x=kaggle_set_x.reshape(-1,64,64)\n",
    "\n",
    "\n"
   ]
  },
  {
   "cell_type": "code",
   "execution_count": null,
   "metadata": {
    "collapsed": true
   },
   "outputs": [],
   "source": []
  },
  {
   "cell_type": "code",
   "execution_count": 26,
   "metadata": {
    "collapsed": true
   },
   "outputs": [],
   "source": [
    "def cross_validation(X_train,Y_train,split):\n",
    "    examples_train=int(split*np.shape(X_train)[0])\n",
    "    examples_test=np.shape(X_train)[0]-examples_train\n",
    "    train_set_x=np.zeros((examples_train,64,64))\n",
    "    train_set_y=np.zeros((examples_train,1))\n",
    "    test_set_x=np.zeros((examples_test,64,64))\n",
    "    test_set_y=np.zeros((examples_test,1))\n",
    "    \n",
    "    for i in range(examples_train):\n",
    "        train_set_x[i]=X_train[i]\n",
    "        train_set_y[i]=Y_train[i]\n",
    "        \n",
    "    for j in range(examples_test):\n",
    "        test_set_x[j]=X_train[j+examples_train]\n",
    "        test_set_y[j]=Y_train[j+examples_train]\n",
    "    return train_set_x,train_set_y,test_set_x,test_set_y\n",
    "        \n",
    "        \n",
    "        \n",
    "    \n",
    "    "
   ]
  },
  {
   "cell_type": "code",
   "execution_count": 60,
   "metadata": {
    "collapsed": true
   },
   "outputs": [],
   "source": [
    "train_set_x,train_set_y,test_set_x,test_set_y=cross_validation(X_train,Y_train,split=0.7)"
   ]
  },
  {
   "cell_type": "markdown",
   "metadata": {},
   "source": [
    "## Implementing the Conv net"
   ]
  },
  {
   "cell_type": "code",
   "execution_count": 61,
   "metadata": {
    "collapsed": true
   },
   "outputs": [],
   "source": [
    "\n",
    "num_epochs=25\n",
    "batch_size=120\n",
    "#np.shape(X_train)[0]\n",
    "\n",
    "learning_rate=0.01\n",
    "# print(train_set_y[0:20,0])\n",
    "\n",
    "train_set_x=train_set_x.astype(np.float32).reshape(-1,1,64,64)\n",
    "test_set_x=test_set_x.astype(np.float32).reshape(-1,1,64,64)\n",
    "\n",
    "kaggle_set_x=kaggle_set_x.astype(np.float32).reshape(-1,1,64,64)\n",
    "\n",
    "features_train=torch.from_numpy(train_set_x)\n",
    "features_test=torch.from_numpy(test_set_x)\n",
    "features_kaggle=torch.from_numpy(kaggle_set_x)\n",
    "\n",
    "features_train=features_train.contiguous()\n",
    "features_test=features_test.contiguous()\n",
    "features_kaggle=features_kaggle.contiguous()\n",
    "\n",
    "\n",
    "\n",
    "\n",
    "labels_train=train_set_y.astype(np.float32)\n",
    "for i in range(np.shape(labels_train)[0]):\n",
    "    labels_train[i,0]=dict_transform[labels_train[i,0]]\n",
    "#print(labels[0:50])\n",
    "labels_train=labels_train.reshape(np.shape(labels_train)[0])\n",
    "labels_train=torch.Tensor(labels_train)\n",
    "\n",
    "\n",
    "labels_test=test_set_y.astype(np.float32)\n",
    "for i in range(np.shape(labels_test)[0]):\n",
    "    labels_test[i,0]=dict_transform[labels_test[i,0]]\n",
    "#print(labels[0:50])\n",
    "labels_test=labels_test.reshape(np.shape(labels_test)[0])\n",
    "labels_test=torch.Tensor(labels_test)\n",
    "\n",
    "\n",
    "\n",
    "train=torch.utils.data.TensorDataset(features_train,labels_train)\n",
    "test=torch.utils.data.TensorDataset(features_test,labels_test)\n",
    "\n",
    "\n",
    "train_set_dataloader=torch.utils.data.DataLoader(dataset=train,batch_size=batch_size,shuffle=False)\n",
    "test_set_dataloader=torch.utils.data.DataLoader(dataset=test,batch_size=batch_size,shuffle=False)\n",
    "kaggle_loader=torch.utils.data.DataLoader(dataset=features_kaggle,batch_size=batch_size,shuffle=False)\n",
    "\n",
    "\n"
   ]
  },
  {
   "cell_type": "code",
   "execution_count": 76,
   "metadata": {
    "collapsed": true
   },
   "outputs": [],
   "source": [
    "\n",
    "#scipy.misc.imshow(train_set_x[0])"
   ]
  },
  {
   "cell_type": "markdown",
   "metadata": {},
   "source": [
    "## CNN class\n"
   ]
  },
  {
   "cell_type": "code",
   "execution_count": 77,
   "metadata": {
    "collapsed": true
   },
   "outputs": [],
   "source": [
    "class CNN(nn.Module):\n",
    "    def __init__(self):\n",
    "        super(CNN, self).__init__()\n",
    "        self.layer1 = nn.Sequential(\n",
    "            nn.Conv2d(1, 8, kernel_size=5, padding=2),\n",
    "            nn.BatchNorm2d(8),\n",
    "            nn.ReLU(),\n",
    "            nn.Dropout(p=0.2),\n",
    "            nn.MaxPool2d(2))\n",
    "             \n",
    "        self.layer2 = nn.Sequential(\n",
    "            nn.Conv2d(8, 12, kernel_size=5, padding=2),\n",
    "            nn.BatchNorm2d(12),\n",
    "            nn.ReLU(),\n",
    "            nn.MaxPool2d(2))\n",
    "        self.layer3 = nn.Sequential(\n",
    "            nn.Conv2d(12, 16, kernel_size=5, padding=2),\n",
    "            nn.BatchNorm2d(16),\n",
    "            nn.ReLU(),\n",
    "            nn.Dropout(p=0.2),\n",
    "            nn.MaxPool2d(2))\n",
    "        \n",
    "        self.layer4 = nn.Sequential(\n",
    "            nn.Conv2d(16, 32, kernel_size=5, padding=2),\n",
    "            nn.BatchNorm2d(32),\n",
    "            nn.ReLU(),\n",
    "            nn.Dropout(p=0.2),\n",
    "            nn.MaxPool2d(2))\n",
    "        self.layer5 = nn.Sequential(\n",
    "            nn.Conv2d(32, 40, kernel_size=5, padding=2),\n",
    "            nn.BatchNorm2d(40),\n",
    "            nn.ReLU(),\n",
    "            nn.Dropout(p=0.2),\n",
    "            nn.MaxPool2d(2))\n",
    "        \n",
    "        self.layer6 = nn.Sequential(\n",
    "            nn.Conv2d(40, 64, kernel_size=5, padding=2),\n",
    "            nn.BatchNorm2d(64),\n",
    "            nn.ReLU(),\n",
    "            nn.Dropout(p=0.2),\n",
    "            nn.MaxPool2d(2))\n",
    "        self.fc = nn.Linear(64,40)\n",
    "        \n",
    "        \n",
    "    def forward(self, x):\n",
    "        out = self.layer1(x)\n",
    "        out = self.layer2(out)\n",
    "        out=self.layer3(out)\n",
    "        out=self.layer4(out)\n",
    "        out=self.layer5(out)\n",
    "        out=self.layer6(out)\n",
    "        out = out.view(out.size(0), -1)\n",
    "        #print(out.size())\n",
    "        out = self.fc(out)\n",
    "        return out"
   ]
  },
  {
   "cell_type": "code",
   "execution_count": null,
   "metadata": {
    "collapsed": true
   },
   "outputs": [],
   "source": []
  },
  {
   "cell_type": "code",
   "execution_count": 78,
   "metadata": {},
   "outputs": [
    {
     "name": "stdout",
     "output_type": "stream",
     "text": [
      "Epoch [1/35], Iter [100/291] Loss: 3.3797\n",
      "Epoch [1/35], Iter [200/291] Loss: 3.2751\n",
      "Epoch [2/35], Iter [100/291] Loss: 2.9632\n",
      "Epoch [2/35], Iter [200/291] Loss: 2.8645\n",
      "Epoch [3/35], Iter [100/291] Loss: 2.6500\n",
      "Epoch [3/35], Iter [200/291] Loss: 2.2864\n",
      "Epoch [4/35], Iter [100/291] Loss: 2.2173\n",
      "Epoch [4/35], Iter [200/291] Loss: 1.9468\n",
      "Epoch [5/35], Iter [100/291] Loss: 1.8717\n",
      "Epoch [5/35], Iter [200/291] Loss: 1.6441\n",
      "Epoch [6/35], Iter [100/291] Loss: 1.5159\n",
      "Epoch [6/35], Iter [200/291] Loss: 1.4265\n",
      "Epoch [7/35], Iter [100/291] Loss: 1.3499\n",
      "Epoch [7/35], Iter [200/291] Loss: 1.1772\n",
      "Epoch [8/35], Iter [100/291] Loss: 1.1361\n",
      "Epoch [8/35], Iter [200/291] Loss: 0.8672\n",
      "Epoch [9/35], Iter [100/291] Loss: 0.9480\n",
      "Epoch [9/35], Iter [200/291] Loss: 0.7219\n",
      "Epoch [10/35], Iter [100/291] Loss: 0.8920\n",
      "Epoch [10/35], Iter [200/291] Loss: 0.7990\n",
      "Epoch [11/35], Iter [100/291] Loss: 0.8421\n",
      "Epoch [11/35], Iter [200/291] Loss: 0.6168\n",
      "Epoch [12/35], Iter [100/291] Loss: 0.8769\n",
      "Epoch [12/35], Iter [200/291] Loss: 0.7422\n",
      "Epoch [13/35], Iter [100/291] Loss: 0.7734\n",
      "Epoch [13/35], Iter [200/291] Loss: 0.5528\n",
      "Epoch [14/35], Iter [100/291] Loss: 0.7742\n",
      "Epoch [14/35], Iter [200/291] Loss: 0.5282\n",
      "Epoch [15/35], Iter [100/291] Loss: 0.7390\n",
      "Epoch [15/35], Iter [200/291] Loss: 0.6087\n",
      "Epoch [16/35], Iter [100/291] Loss: 0.7289\n",
      "Epoch [16/35], Iter [200/291] Loss: 0.5893\n",
      "Epoch [17/35], Iter [100/291] Loss: 0.6995\n",
      "Epoch [17/35], Iter [200/291] Loss: 0.6195\n",
      "Epoch [18/35], Iter [100/291] Loss: 0.7731\n",
      "Epoch [18/35], Iter [200/291] Loss: 0.4487\n",
      "Epoch [19/35], Iter [100/291] Loss: 0.6256\n",
      "Epoch [19/35], Iter [200/291] Loss: 0.5498\n",
      "Epoch [20/35], Iter [100/291] Loss: 0.7418\n",
      "Epoch [20/35], Iter [200/291] Loss: 0.3844\n",
      "Epoch [21/35], Iter [100/291] Loss: 0.5383\n",
      "Epoch [21/35], Iter [200/291] Loss: 0.4636\n",
      "Epoch [22/35], Iter [100/291] Loss: 0.6846\n",
      "Epoch [22/35], Iter [200/291] Loss: 0.3063\n",
      "Epoch [23/35], Iter [100/291] Loss: 0.7016\n",
      "Epoch [23/35], Iter [200/291] Loss: 0.4464\n",
      "Epoch [24/35], Iter [100/291] Loss: 0.6391\n",
      "Epoch [24/35], Iter [200/291] Loss: 0.4211\n",
      "Epoch [25/35], Iter [100/291] Loss: 0.5612\n",
      "Epoch [25/35], Iter [200/291] Loss: 0.3757\n",
      "Epoch [26/35], Iter [100/291] Loss: 0.5290\n",
      "Epoch [26/35], Iter [200/291] Loss: 0.3652\n",
      "Epoch [27/35], Iter [100/291] Loss: 0.5427\n",
      "Epoch [27/35], Iter [200/291] Loss: 0.2922\n",
      "Epoch [28/35], Iter [100/291] Loss: 0.5529\n",
      "Epoch [28/35], Iter [200/291] Loss: 0.4681\n",
      "Epoch [29/35], Iter [100/291] Loss: 0.5086\n",
      "Epoch [29/35], Iter [200/291] Loss: 0.4335\n",
      "Epoch [30/35], Iter [100/291] Loss: 0.4802\n",
      "Epoch [30/35], Iter [200/291] Loss: 0.3746\n",
      "Epoch [31/35], Iter [100/291] Loss: 0.5283\n",
      "Epoch [31/35], Iter [200/291] Loss: 0.3034\n",
      "Epoch [32/35], Iter [100/291] Loss: 0.4700\n",
      "Epoch [32/35], Iter [200/291] Loss: 0.3336\n",
      "Epoch [33/35], Iter [100/291] Loss: 0.5629\n",
      "Epoch [33/35], Iter [200/291] Loss: 0.4128\n",
      "Epoch [34/35], Iter [100/291] Loss: 0.5489\n",
      "Epoch [34/35], Iter [200/291] Loss: 0.3847\n",
      "Epoch [35/35], Iter [100/291] Loss: 0.5362\n",
      "Epoch [35/35], Iter [200/291] Loss: 0.3658\n"
     ]
    }
   ],
   "source": [
    "cnn = CNN()\n",
    "cnn.cuda()\n",
    "all_loss=[]\n",
    "\n",
    "# Loss and Optimizer\n",
    "criterion = nn.CrossEntropyLoss()\n",
    "optimizer = torch.optim.Adam(cnn.parameters(), lr=learning_rate)\n",
    "# Train the Model\n",
    "for epoch in range(num_epochs):\n",
    "    for i, (images, labels) in enumerate(train_set_dataloader):\n",
    "        \n",
    "        images = Variable(images.cuda())\n",
    "        labels = Variable(labels.cuda())\n",
    "        #print(images.size())\n",
    "        \n",
    "        # Forward + Backward + Optimize\n",
    "        optimizer.zero_grad()\n",
    "        #pdb.set_trace()\n",
    "        \n",
    "        \n",
    "        #images=images.unsqueeze(0)\n",
    "    \n",
    "        outputs = cnn(images)\n",
    "        #pdb.set_trace()\n",
    "        #print(labels.long())\n",
    "        loss = criterion(outputs, labels.long())\n",
    "                         \n",
    "        loss.backward()\n",
    "        optimizer.step()\n",
    "        \n",
    "        \n",
    "        if (i+1) % 100 == 0:\n",
    "            all_loss.append(loss.data[0])\n",
    "            print ('Epoch [%d/%d], Iter [%d/%d] Loss: %.4f' \n",
    "                   %(epoch+1, num_epochs, i+1, len(train)//batch_size, loss.data[0]))\n",
    "            \n",
    "            \n",
    "            \n",
    "            \n"
   ]
  },
  {
   "cell_type": "code",
   "execution_count": 79,
   "metadata": {},
   "outputs": [
    {
     "name": "stdout",
     "output_type": "stream",
     "text": [
      "Test Accuracy of the model on the 15000 test images: 83 %\n"
     ]
    }
   ],
   "source": [
    "# Test the Model\n",
    "cnn.eval()  # Change model to 'eval' mode (BN uses moving mean/var).\n",
    "correct = 0\n",
    "total = 0\n",
    "for images, labels in test_set_dataloader:\n",
    "    images = Variable(images.cuda())\n",
    "    outputs = cnn(images.cuda())\n",
    "    _, predicted = torch.max(outputs.data, 1)\n",
    "    total += labels.size(0)\n",
    "    #print(type(predicted))\n",
    "    correct += (predicted == labels.long().cuda()).sum()\n",
    "\n",
    "print('Test Accuracy of the model on the 15000 test images: %d %%' % (100 * correct / total))"
   ]
  },
  {
   "cell_type": "code",
   "execution_count": 80,
   "metadata": {
    "collapsed": true
   },
   "outputs": [],
   "source": [
    "###saving the predictions in kaggle\n",
    "#f=open('results_kaggle.csv','w')\n",
    "#print('Id,Label',file=f)\n",
    "output = []\n",
    "counter=1\n",
    "for images in kaggle_loader:\n",
    "    images=Variable(images.cuda())\n",
    "    outputs=cnn(images)\n",
    "    _,predicted=torch.max(outputs.data,1)\n",
    "    #print(predicted)\n",
    "   # print(counter,',',predicted,file=f)\n",
    "    predictions=predicted.cpu().numpy()\n",
    "    output.extend(predictions)\n",
    "    \n",
    "    #print(predictions.shape)\n",
    "    #counter+=1\n",
    "df = pd.DataFrame(list(zip(range(1,len(output)+1),output)), columns=['Id','RawLabels'])\n",
    "#f.close()"
   ]
  },
  {
   "cell_type": "code",
   "execution_count": 81,
   "metadata": {
    "collapsed": true
   },
   "outputs": [],
   "source": [
    "df['Label'] = df['RawLabels'].apply(lambda x: ljk[x])"
   ]
  },
  {
   "cell_type": "code",
   "execution_count": 82,
   "metadata": {},
   "outputs": [
    {
     "data": {
      "text/html": [
       "<div>\n",
       "<style>\n",
       "    .dataframe thead tr:only-child th {\n",
       "        text-align: right;\n",
       "    }\n",
       "\n",
       "    .dataframe thead th {\n",
       "        text-align: left;\n",
       "    }\n",
       "\n",
       "    .dataframe tbody tr th {\n",
       "        vertical-align: top;\n",
       "    }\n",
       "</style>\n",
       "<table border=\"1\" class=\"dataframe\">\n",
       "  <thead>\n",
       "    <tr style=\"text-align: right;\">\n",
       "      <th></th>\n",
       "      <th>Id</th>\n",
       "      <th>RawLabels</th>\n",
       "      <th>Label</th>\n",
       "    </tr>\n",
       "  </thead>\n",
       "  <tbody>\n",
       "    <tr>\n",
       "      <th>0</th>\n",
       "      <td>1</td>\n",
       "      <td>19</td>\n",
       "      <td>20</td>\n",
       "    </tr>\n",
       "    <tr>\n",
       "      <th>1</th>\n",
       "      <td>2</td>\n",
       "      <td>14</td>\n",
       "      <td>14</td>\n",
       "    </tr>\n",
       "    <tr>\n",
       "      <th>2</th>\n",
       "      <td>3</td>\n",
       "      <td>12</td>\n",
       "      <td>12</td>\n",
       "    </tr>\n",
       "    <tr>\n",
       "      <th>3</th>\n",
       "      <td>4</td>\n",
       "      <td>21</td>\n",
       "      <td>24</td>\n",
       "    </tr>\n",
       "    <tr>\n",
       "      <th>4</th>\n",
       "      <td>5</td>\n",
       "      <td>16</td>\n",
       "      <td>16</td>\n",
       "    </tr>\n",
       "  </tbody>\n",
       "</table>\n",
       "</div>"
      ],
      "text/plain": [
       "   Id  RawLabels  Label\n",
       "0   1         19     20\n",
       "1   2         14     14\n",
       "2   3         12     12\n",
       "3   4         21     24\n",
       "4   5         16     16"
      ]
     },
     "execution_count": 82,
     "metadata": {},
     "output_type": "execute_result"
    }
   ],
   "source": [
    "df.head()"
   ]
  },
  {
   "cell_type": "code",
   "execution_count": 84,
   "metadata": {
    "collapsed": true
   },
   "outputs": [],
   "source": [
    "df.to_csv('test_output.csv', index=False, columns=['Id', 'Label'])"
   ]
  },
  {
   "cell_type": "code",
   "execution_count": null,
   "metadata": {},
   "outputs": [],
   "source": []
  }
 ],
 "metadata": {
  "kernelspec": {
   "display_name": "Python 3",
   "language": "python",
   "name": "python3"
  },
  "language_info": {
   "codemirror_mode": {
    "name": "ipython",
    "version": 3
   },
   "file_extension": ".py",
   "mimetype": "text/x-python",
   "name": "python",
   "nbconvert_exporter": "python",
   "pygments_lexer": "ipython3",
   "version": "3.5.2"
  }
 },
 "nbformat": 4,
 "nbformat_minor": 2
}
