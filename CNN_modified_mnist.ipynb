{
 "cells": [
  {
   "cell_type": "markdown",
   "metadata": {},
   "source": [
    "## importing the modules\n"
   ]
  },
  {
   "cell_type": "code",
   "execution_count": 1,
   "metadata": {
    "collapsed": true
   },
   "outputs": [],
   "source": [
    "import numpy as np\n",
    "import csv\n",
    "import torch\n",
    "import torch.nn as nn\n",
    "\n",
    "from torch.autograd import Variable\n",
    "import torchvision.transforms as transforms\n",
    "import pdb\n",
    "import scipy.misc\n",
    "import pandas as pd\n",
    "import matplotlib.pyplot as plt \n"
   ]
  },
  {
   "cell_type": "code",
   "execution_count": 2,
   "metadata": {
    "collapsed": true
   },
   "outputs": [],
   "source": [
    "ljk = [0, 1, 2, 3, 4, 5, 6, 7, 8, 9, 10, 11, 12, 13, 14, 15, 16, 17, 18, 20, 21, 24, 25, 27, 28, 30, 32, 35, 36, 40, 42, 45, 48, 49, 54, 56, 63, 64, 72, 81]\n",
    "dict_transform = dict((ljk[i],i) for i in range(len(ljk)))"
   ]
  },
  {
   "cell_type": "code",
   "execution_count": 3,
   "metadata": {
    "collapsed": true
   },
   "outputs": [],
   "source": [
    "#dict_transform[81]"
   ]
  },
  {
   "cell_type": "markdown",
   "metadata": {},
   "source": [
    "## To load the data \n"
   ]
  },
  {
   "cell_type": "code",
   "execution_count": 4,
   "metadata": {
    "collapsed": true
   },
   "outputs": [],
   "source": [
    "def data_load(x_path,y_path):\n",
    "    x=np.loadtxt(x_path,delimiter=\",\")\n",
    "    y=np.loadtxt(y_path,delimiter=\",\")\n",
    "    x=x.reshape(-1,64,64)\n",
    "    y=y.reshape(-1,1)\n",
    "    print(\"Data Loaded\")\n",
    "    return x,y"
   ]
  },
  {
   "cell_type": "code",
   "execution_count": 5,
   "metadata": {},
   "outputs": [
    {
     "name": "stdout",
     "output_type": "stream",
     "text": [
      "Data Loaded\n"
     ]
    }
   ],
   "source": [
    "X_train,Y_train=data_load(\"dataset/train_x.csv\",\"dataset/train_y.csv\")\n",
    "\n",
    "kaggle_set_x=np.loadtxt(\"dataset/test_x.csv\",delimiter=\",\")\n",
    "kaggle_set_x=kaggle_set_x.reshape(-1,64,64)\n",
    "\n",
    "\n"
   ]
  },
  {
   "cell_type": "code",
   "execution_count": null,
   "metadata": {
    "collapsed": true
   },
   "outputs": [],
   "source": []
  },
  {
   "cell_type": "code",
   "execution_count": 6,
   "metadata": {
    "collapsed": true
   },
   "outputs": [],
   "source": [
    "def cross_validation(X_train,Y_train,split):\n",
    "    examples_train=int(split*np.shape(X_train)[0])\n",
    "    examples_test=np.shape(X_train)[0]-examples_train\n",
    "    train_set_x=np.zeros((examples_train,64,64))\n",
    "    train_set_y=np.zeros((examples_train,1))\n",
    "    test_set_x=np.zeros((examples_test,64,64))\n",
    "    test_set_y=np.zeros((examples_test,1))\n",
    "    \n",
    "    for i in range(examples_train):\n",
    "        train_set_x[i]=X_train[i]\n",
    "        train_set_y[i]=Y_train[i]\n",
    "        \n",
    "    for j in range(examples_test):\n",
    "        test_set_x[j]=X_train[j+examples_train]\n",
    "        test_set_y[j]=Y_train[j+examples_train]\n",
    "    return train_set_x,train_set_y,test_set_x,test_set_y\n",
    "        \n",
    "        \n",
    "        \n",
    "    \n",
    "    "
   ]
  },
  {
   "cell_type": "code",
   "execution_count": 130,
   "metadata": {
    "collapsed": true
   },
   "outputs": [],
   "source": [
    "train_set_x,train_set_y,test_set_x,test_set_y=cross_validation(X_train,Y_train,split=0.7)"
   ]
  },
  {
   "cell_type": "markdown",
   "metadata": {},
   "source": [
    "## Implementing the Conv net"
   ]
  },
  {
   "cell_type": "code",
   "execution_count": 131,
   "metadata": {
    "collapsed": true
   },
   "outputs": [],
   "source": [
    "\n",
    "num_epochs=20\n",
    "batch_size=120\n",
    "#np.shape(X_train)[0]\n",
    "\n",
    "learning_rate=0.01\n",
    "# print(train_set_y[0:20,0])\n",
    "\n",
    "train_set_x=train_set_x.astype(np.float32).reshape(-1,1,64,64)\n",
    "test_set_x=test_set_x.astype(np.float32).reshape(-1,1,64,64)\n",
    "\n",
    "kaggle_set_x=kaggle_set_x.astype(np.float32).reshape(-1,1,64,64)\n",
    "\n",
    "features_train=torch.from_numpy(train_set_x)\n",
    "features_test=torch.from_numpy(test_set_x)\n",
    "features_kaggle=torch.from_numpy(kaggle_set_x)\n",
    "\n",
    "features_train=features_train.contiguous()\n",
    "features_test=features_test.contiguous()\n",
    "features_kaggle=features_kaggle.contiguous()\n",
    "\n",
    "\n",
    "\n",
    "\n",
    "labels_train=train_set_y.astype(np.float32)\n",
    "for i in range(np.shape(labels_train)[0]):\n",
    "    labels_train[i,0]=dict_transform[labels_train[i,0]]\n",
    "#print(labels[0:50])\n",
    "labels_train=labels_train.reshape(np.shape(labels_train)[0])\n",
    "labels_train=torch.Tensor(labels_train)\n",
    "\n",
    "\n",
    "labels_test=test_set_y.astype(np.float32)\n",
    "for i in range(np.shape(labels_test)[0]):\n",
    "    labels_test[i,0]=dict_transform[labels_test[i,0]]\n",
    "#print(labels[0:50])\n",
    "labels_test=labels_test.reshape(np.shape(labels_test)[0])\n",
    "labels_test=torch.Tensor(labels_test)\n",
    "\n",
    "\n",
    "\n",
    "train=torch.utils.data.TensorDataset(features_train,labels_train)\n",
    "test=torch.utils.data.TensorDataset(features_test,labels_test)\n",
    "\n",
    "\n",
    "train_set_dataloader=torch.utils.data.DataLoader(dataset=train,batch_size=batch_size,shuffle=False)\n",
    "test_set_dataloader=torch.utils.data.DataLoader(dataset=test,batch_size=batch_size,shuffle=False)\n",
    "kaggle_loader=torch.utils.data.DataLoader(dataset=features_kaggle,batch_size=batch_size,shuffle=False)\n",
    "\n",
    "\n"
   ]
  },
  {
   "cell_type": "code",
   "execution_count": 132,
   "metadata": {
    "collapsed": true
   },
   "outputs": [],
   "source": [
    "\n",
    "#scipy.misc.imshow(train_set_x[0])"
   ]
  },
  {
   "cell_type": "markdown",
   "metadata": {},
   "source": [
    "## CNN class\n"
   ]
  },
  {
   "cell_type": "code",
   "execution_count": 133,
   "metadata": {
    "collapsed": true
   },
   "outputs": [],
   "source": [
    "class CNN(nn.Module):\n",
    "    def __init__(self):\n",
    "        super(CNN, self).__init__()\n",
    "        self.layer1 = nn.Sequential(\n",
    "            nn.Conv2d(1, 8, kernel_size=5, padding=2),\n",
    "            nn.BatchNorm2d(8),\n",
    "            nn.ReLU(),\n",
    "            nn.MaxPool2d(2))\n",
    "             \n",
    "        self.layer2 = nn.Sequential(\n",
    "            nn.Conv2d(8, 12, kernel_size=5, padding=2),\n",
    "            nn.BatchNorm2d(12),\n",
    "            nn.ReLU(),\n",
    "            nn.MaxPool2d(2))\n",
    "        self.layer3 = nn.Sequential(\n",
    "            nn.Conv2d(12, 16, kernel_size=5, padding=2),\n",
    "            nn.BatchNorm2d(16),\n",
    "            nn.ReLU(),\n",
    "            nn.MaxPool2d(2))\n",
    "        \n",
    "        self.layer4 = nn.Sequential(\n",
    "            nn.Conv2d(16, 32, kernel_size=5, padding=2),\n",
    "            nn.BatchNorm2d(32),\n",
    "            nn.ReLU(),\n",
    "            nn.MaxPool2d(2))\n",
    "        self.layer5 = nn.Sequential(\n",
    "            nn.Conv2d(32, 64, kernel_size=5, padding=2),\n",
    "            nn.BatchNorm2d(64),\n",
    "            nn.ReLU(),\n",
    "            nn.MaxPool2d(2))\n",
    "        self.fc = nn.Linear(256,40)\n",
    "        \n",
    "        \n",
    "    def forward(self, x):\n",
    "        out = self.layer1(x)\n",
    "        out = self.layer2(out)\n",
    "        out=self.layer3(out)\n",
    "        out=self.layer4(out)\n",
    "        out=self.layer5(out)\n",
    "        out = out.view(out.size(0), -1)\n",
    "        #print(out.size())\n",
    "        out = self.fc(out)\n",
    "        return out"
   ]
  },
  {
   "cell_type": "code",
   "execution_count": null,
   "metadata": {
    "collapsed": true
   },
   "outputs": [],
   "source": []
  },
  {
   "cell_type": "code",
   "execution_count": 134,
   "metadata": {},
   "outputs": [
    {
     "name": "stdout",
     "output_type": "stream",
     "text": [
      "Epoch [1/20], Iter [100/291] Loss: 3.2384\n",
      "Epoch [1/20], Iter [200/291] Loss: 3.1642\n",
      "Epoch [2/20], Iter [100/291] Loss: 2.6671\n",
      "Epoch [2/20], Iter [200/291] Loss: 2.3189\n",
      "Epoch [3/20], Iter [100/291] Loss: 2.0913\n",
      "Epoch [3/20], Iter [200/291] Loss: 1.6153\n",
      "Epoch [4/20], Iter [100/291] Loss: 1.4215\n",
      "Epoch [4/20], Iter [200/291] Loss: 1.1037\n",
      "Epoch [5/20], Iter [100/291] Loss: 1.0900\n",
      "Epoch [5/20], Iter [200/291] Loss: 0.8556\n",
      "Epoch [6/20], Iter [100/291] Loss: 0.9651\n",
      "Epoch [6/20], Iter [200/291] Loss: 0.8004\n",
      "Epoch [7/20], Iter [100/291] Loss: 0.8539\n",
      "Epoch [7/20], Iter [200/291] Loss: 0.6234\n",
      "Epoch [8/20], Iter [100/291] Loss: 0.6553\n",
      "Epoch [8/20], Iter [200/291] Loss: 0.4233\n",
      "Epoch [9/20], Iter [100/291] Loss: 0.5828\n",
      "Epoch [9/20], Iter [200/291] Loss: 0.4142\n",
      "Epoch [10/20], Iter [100/291] Loss: 0.5030\n",
      "Epoch [10/20], Iter [200/291] Loss: 0.4803\n",
      "Epoch [11/20], Iter [100/291] Loss: 0.5065\n",
      "Epoch [11/20], Iter [200/291] Loss: 0.3789\n",
      "Epoch [12/20], Iter [100/291] Loss: 0.4160\n",
      "Epoch [12/20], Iter [200/291] Loss: 0.3406\n",
      "Epoch [13/20], Iter [100/291] Loss: 0.4019\n",
      "Epoch [13/20], Iter [200/291] Loss: 0.1972\n",
      "Epoch [14/20], Iter [100/291] Loss: 0.3177\n",
      "Epoch [14/20], Iter [200/291] Loss: 0.2081\n",
      "Epoch [15/20], Iter [100/291] Loss: 0.3796\n",
      "Epoch [15/20], Iter [200/291] Loss: 0.2738\n",
      "Epoch [16/20], Iter [100/291] Loss: 0.3474\n",
      "Epoch [16/20], Iter [200/291] Loss: 0.2251\n",
      "Epoch [17/20], Iter [100/291] Loss: 0.2910\n",
      "Epoch [17/20], Iter [200/291] Loss: 0.2734\n",
      "Epoch [18/20], Iter [100/291] Loss: 0.2392\n",
      "Epoch [18/20], Iter [200/291] Loss: 0.2147\n",
      "Epoch [19/20], Iter [100/291] Loss: 0.2911\n",
      "Epoch [19/20], Iter [200/291] Loss: 0.2099\n",
      "Epoch [20/20], Iter [100/291] Loss: 0.2477\n",
      "Epoch [20/20], Iter [200/291] Loss: 0.1942\n"
     ]
    }
   ],
   "source": [
    "cnn = CNN()\n",
    "cnn.cuda()\n",
    "all_loss=[]\n",
    "\n",
    "# Loss and Optimizer\n",
    "criterion = nn.CrossEntropyLoss()\n",
    "optimizer = torch.optim.Adam(cnn.parameters(), lr=learning_rate)\n",
    "# Train the Model\n",
    "for epoch in range(num_epochs):\n",
    "    for i, (images, labels) in enumerate(train_set_dataloader):\n",
    "        \n",
    "        images = Variable(images.cuda())\n",
    "        labels = Variable(labels.cuda())\n",
    "        #print(images.size())\n",
    "        \n",
    "        # Forward + Backward + Optimize\n",
    "        optimizer.zero_grad()\n",
    "        #pdb.set_trace()\n",
    "        \n",
    "        \n",
    "        #images=images.unsqueeze(0)\n",
    "    \n",
    "        outputs = cnn(images)\n",
    "        #pdb.set_trace()\n",
    "        #print(labels.long())\n",
    "        loss = criterion(outputs, labels.long())\n",
    "                         \n",
    "        loss.backward()\n",
    "        optimizer.step()\n",
    "        \n",
    "        \n",
    "        if (i+1) % 100 == 0:\n",
    "            all_loss.append(loss.data[0])\n",
    "            print ('Epoch [%d/%d], Iter [%d/%d] Loss: %.4f' \n",
    "                   %(epoch+1, num_epochs, i+1, len(train)//batch_size, loss.data[0]))\n",
    "            \n",
    "            \n",
    "            \n",
    "            \n"
   ]
  },
  {
   "cell_type": "code",
   "execution_count": 135,
   "metadata": {},
   "outputs": [
    {
     "name": "stdout",
     "output_type": "stream",
     "text": [
      "Test Accuracy of the model on the 15000 test images: 70 %\n"
     ]
    }
   ],
   "source": [
    "# Test the Model\n",
    "cnn.eval()  # Change model to 'eval' mode (BN uses moving mean/var).\n",
    "correct = 0\n",
    "total = 0\n",
    "for images, labels in test_set_dataloader:\n",
    "    images = Variable(images.cuda())\n",
    "    outputs = cnn(images.cuda())\n",
    "    _, predicted = torch.max(outputs.data, 1)\n",
    "    total += labels.size(0)\n",
    "    #print(type(predicted))\n",
    "    correct += (predicted == labels.long().cuda()).sum()\n",
    "\n",
    "print('Test Accuracy of the model on the 15000 test images: %d %%' % (100 * correct / total))"
   ]
  },
  {
   "cell_type": "code",
   "execution_count": 136,
   "metadata": {},
   "outputs": [],
   "source": [
    "###saving the predictions in kaggle\n",
    "#f=open('results_kaggle.csv','w')\n",
    "#print('Id,Label',file=f)\n",
    "counter=1\n",
    "for images in kaggle_loader:\n",
    "    images=Variable(images.cuda())\n",
    "    outputs=cnn(images)\n",
    "    _,predicted=torch.max(outputs.data,1)\n",
    "    #print(predicted)\n",
    "   # print(counter,',',predicted,file=f)\n",
    "    predictions=predicted.cpu().numpy()\n",
    "    #print(predictions)\n",
    "    counter+=1\n",
    "    pd.DataFrame(counter,predictions, columns=['Id','Labels']).to_csv('results_kaggle.csv',sep=\",\")\n",
    "#f.close()"
   ]
  },
  {
   "cell_type": "code",
   "execution_count": null,
   "metadata": {
    "collapsed": true
   },
   "outputs": [],
   "source": []
  }
 ],
 "metadata": {
  "kernelspec": {
   "display_name": "Python 3",
   "language": "python",
   "name": "python3"
  },
  "language_info": {
   "codemirror_mode": {
    "name": "ipython",
    "version": 3
   },
   "file_extension": ".py",
   "mimetype": "text/x-python",
   "name": "python",
   "nbconvert_exporter": "python",
   "pygments_lexer": "ipython3",
   "version": "3.5.2"
  }
 },
 "nbformat": 4,
 "nbformat_minor": 2
}
