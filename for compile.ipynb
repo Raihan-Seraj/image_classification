{
 "cells": [
  {
   "cell_type": "code",
   "execution_count": 13,
   "metadata": {},
   "outputs": [
    {
     "name": "stderr",
     "output_type": "stream",
     "text": [
      "/anaconda/lib/python3.6/site-packages/matplotlib/cbook/deprecation.py:106: MatplotlibDeprecationWarning: Adding an axes using the same arguments as a previous axes currently reuses the earlier instance.  In a future version, a new instance will always be created and returned.  Meanwhile, this warning can be suppressed, and the future behavior ensured, by passing a unique label to each axes instance.\n",
      "  warnings.warn(message, mplDeprecation, stacklevel=1)\n"
     ]
    },
    {
     "data": {
      "image/png": "[encoded data removed]",
      "text/plain": [
       "<matplotlib.figure.Figure at 0x12c8590f0>"
      ]
     },
     "metadata": {},
     "output_type": "display_data"
    }
   ],
   "source": [
    "import cv2\n",
    "import numpy as np\n",
    "from matplotlib import pyplot as plt\n",
    "import matplotlib.image as mpimg\n",
    "from scipy.misc import toimage\n",
    "import csv\n",
    "import math\n",
    "\n",
    "\n",
    "\n",
    "# reding image\n",
    "with open (\"train_x.csv\",\"r\") as csvfile:\n",
    "    data = csv.reader(csvfile)\n",
    "    \n",
    "    \n",
    "    \n",
    "    for i in range(0, 16):\n",
    "        for row, cont in zip (data, range(i)):\n",
    "           #print (\"cont, type:\", cont, type(row))\n",
    "            vector=np.array(row).astype(np.float)\n",
    "            image = vector.reshape(64, 64)\n",
    "            #Binary threshholding\n",
    "            ret,thresh = cv2.threshold(image,220,255,cv2.THRESH_BINARY)\n",
    "            titles = ['BINARY']\n",
    "            images = [ thresh]\n",
    "            for i in range(1):\n",
    "                plt.subplot(2,3,i+1),plt.imshow(images[i],'gray')\n",
    "                plt.title(titles[i])\n",
    "                plt.xticks([]),plt.yticks([])\n",
    "                # plt.show()\n",
    "                #write the data\n",
    "                l = images[i]\n",
    "                out = open('test1.csv', 'a')\n",
    "                for row in l:\n",
    "                    for column in row:\n",
    "                        out.write('%d;' % column)\n",
    "                    out.write('\\n')    \n",
    "                out.close()        \n",
    "    \n",
    "        \n",
    "    \n",
    "\n",
    "\n",
    "\n",
    "    "
   ]
  },
  {
   "cell_type": "code",
   "execution_count": null,
   "metadata": {
    "collapsed": true
   },
   "outputs": [],
   "source": []
  },
  {
   "cell_type": "code",
   "execution_count": null,
   "metadata": {
    "collapsed": true
   },
   "outputs": [],
   "source": []
  }
 ],
 "metadata": {
  "kernelspec": {
   "display_name": "Python 3",
   "language": "python",
   "name": "python3"
  },
  "language_info": {
   "codemirror_mode": {
    "name": "ipython",
    "version": 3
   },
   "file_extension": ".py",
   "mimetype": "text/x-python",
   "name": "python",
   "nbconvert_exporter": "python",
   "pygments_lexer": "ipython3",
   "version": "3.6.1"
  }
 },
 "nbformat": 4,
 "nbformat_minor": 2
}
