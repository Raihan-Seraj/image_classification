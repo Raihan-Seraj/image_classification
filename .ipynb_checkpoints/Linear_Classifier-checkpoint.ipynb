{
 "cells": [
  {
   "cell_type": "code",
   "execution_count": 1,
   "metadata": {
    "collapsed": true
   },
   "outputs": [],
   "source": [
    "import cv2\n",
    "import numpy as np\n",
    "from matplotlib import pyplot as plt\n",
    "import matplotlib.image as mpimg\n",
    "from scipy.misc import toimage\n",
    "import csv\n",
    "import math\n",
    "from sklearn.linear_model import LogisticRegression\n",
    "import numpy   as np \n",
    "import pandas as pd\n",
    "import scipy.misc # to visualize only  \n",
    "from sklearn.model_selection import train_test_split\n",
    "from sklearn import svm\n",
    "#import pyprind\n"
   ]
  },
  {
   "cell_type": "code",
   "execution_count": 2,
   "metadata": {
    "collapsed": true
   },
   "outputs": [],
   "source": [
    "\n",
    "processed_data=np.zeros((50000,4096))\n",
    "\n",
    "# reading image\n",
    "with open (\"train_x.csv\",\"r\") as csvfile:\n",
    "    data = csv.reader(csvfile)\n",
    "    \n",
    "\n",
    "    for row, cont in zip (data, range(50000)):\n",
    "     \n",
    "        vector=np.array(row).astype(np.float)\n",
    "        image = vector.reshape(64, 64)\n",
    "        \n",
    "#         toimage(image).show() #if wanna show the picture\n",
    "\n",
    "        ret,thresh1 = cv2.threshold(image,220,255,cv2.THRESH_BINARY)\n",
    "        k=thresh1.reshape(1,4096)\n",
    "        processed_data[cont,:]=k\n",
    "  \n",
    "\n"
   ]
  },
  {
   "cell_type": "code",
   "execution_count": 3,
   "metadata": {
    "collapsed": true
   },
   "outputs": [],
   "source": [
    "\n",
    "\n",
    "np.save(\"processed_dataset.npy\",processed_data)"
   ]
  },
  {
   "cell_type": "code",
   "execution_count": 4,
   "metadata": {
    "collapsed": true
   },
   "outputs": [],
   "source": [
    "\n",
    "#import pyprind\n",
    "\n",
    "processed_test=np.zeros((10000,4096))\n",
    "\n",
    "# reading image\n",
    "with open (\"test_x.csv\",\"r\") as csvfile:\n",
    "    data = csv.reader(csvfile)\n",
    "    \n",
    "\n",
    "    for row, cont in zip (data, range(10000)):\n",
    "        #bar=ProgBar(cont)\n",
    "        #print(cont)\n",
    "        #print (\"cont, type:\", cont, type(row))\n",
    "        vector=np.array(row).astype(np.float)\n",
    "        image = vector.reshape(64, 64)\n",
    "        \n",
    "#         toimage(image).show() #if wanna show the picture\n",
    "\n",
    "        ret,thresh1 = cv2.threshold(image,220,255,cv2.THRESH_BINARY)\n",
    "        k=thresh1.reshape(1,4096)\n",
    "        processed_test[cont,:]=k\n",
    "        #bar.update()\n",
    "    \n",
    "\n"
   ]
  },
  {
   "cell_type": "code",
   "execution_count": 5,
   "metadata": {
    "collapsed": true
   },
   "outputs": [],
   "source": [
    "#print(processed_data.shape)\n",
    "#test=processed_data[1,:]\n",
    "#test=test.reshape(64,64)\n",
    "\n",
    "np.save(\"processed_dataset-test.npy\",processed_test)"
   ]
  },
  {
   "cell_type": "code",
   "execution_count": 6,
   "metadata": {
    "collapsed": true
   },
   "outputs": [],
   "source": [
    "labels=np.loadtxt(\"train_y.csv\",delimiter=\",\")\n",
    "labels=labels.reshape(50000,1)\n"
   ]
  },
  {
   "cell_type": "code",
   "execution_count": null,
   "metadata": {},
   "outputs": [
    {
     "name": "stderr",
     "output_type": "stream",
     "text": [
      "/anaconda/lib/python3.6/site-packages/sklearn/utils/validation.py:578: DataConversionWarning: A column-vector y was passed when a 1d array was expected. Please change the shape of y to (n_samples, ), for example using ravel().\n",
      "  y = column_or_1d(y, warn=True)\n"
     ]
    },
    {
     "name": "stdout",
     "output_type": "stream",
     "text": [
      "0.0626571428571\n"
     ]
    }
   ],
   "source": [
    "\n",
    "\n",
    "x = processed_data\n",
    "y = labels\n",
    "\n",
    "x_train, x_test, y_train, y_test = train_test_split(x, y, test_size=0.7, random_state=0)\n",
    "from sklearn.linear_model import LogisticRegression\n",
    "logisticRegr = LogisticRegression()\n",
    "logisticRegr.fit(x_train, y_train)\n",
    "predictions = logisticRegr.predict(x_test)\n",
    "score = logisticRegr.score(x_test, y_test)\n",
    "print(score)\n",
    "\n",
    "\n",
    "\n",
    "\n"
   ]
  },
  {
   "cell_type": "code",
   "execution_count": null,
   "metadata": {},
   "outputs": [
    {
     "name": "stderr",
     "output_type": "stream",
     "text": [
      "/anaconda/lib/python3.6/site-packages/sklearn/utils/validation.py:578: DataConversionWarning: A column-vector y was passed when a 1d array was expected. Please change the shape of y to (n_samples, ), for example using ravel().\n",
      "  y = column_or_1d(y, warn=True)\n"
     ]
    }
   ],
   "source": [
    "\n",
    "##Using svm \n",
    "clf = svm.SVC(gamma=0.001, C=100.)\n",
    "clf.fit(x_train, y_train)\n",
    "clf.score(x_test,y_test)\n",
    "print(clf.score(x_test,y_test))\n",
    "\n"
   ]
  },
  {
   "cell_type": "code",
   "execution_count": null,
   "metadata": {
    "collapsed": true
   },
   "outputs": [],
   "source": [
    "##Using svm \n",
    "clf = svm.LinearSVM()\n",
    "clf.fit(x_train, y_train)\n",
    "clf.score(x_test,y_test)\n",
    "print(clf.score(x_test,y_test))"
   ]
  }
 ],
 "metadata": {
  "kernelspec": {
   "display_name": "Python 3",
   "language": "python",
   "name": "python3"
  },
  "language_info": {
   "codemirror_mode": {
    "name": "ipython",
    "version": 3
   },
   "file_extension": ".py",
   "mimetype": "text/x-python",
   "name": "python",
   "nbconvert_exporter": "python",
   "pygments_lexer": "ipython3",
   "version": "3.5.2"
  }
 },
 "nbformat": 4,
 "nbformat_minor": 2
}
